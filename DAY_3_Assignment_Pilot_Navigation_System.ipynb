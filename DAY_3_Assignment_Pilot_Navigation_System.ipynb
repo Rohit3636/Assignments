{
  "nbformat": 4,
  "nbformat_minor": 0,
  "metadata": {
    "colab": {
      "name": "DAY 3 Assignment - Pilot Navigation System.ipynb",
      "provenance": []
    },
    "kernelspec": {
      "name": "python3",
      "display_name": "Python 3"
    },
    "language_info": {
      "name": "python"
    }
  },
  "cells": [
    {
      "cell_type": "code",
      "metadata": {
        "id": "pzneKRbibBTp"
      },
      "source": [
        "# Pilot Navigation System\n",
        "\n",
        "Altitude= int(input(\"Please Enter the Current Altitude in ft:\"))\n",
        "\n",
        "if Altitude == 3000:\n",
        "  print(\"It is safe for Landing..\")\n",
        "\n",
        "elif Altitude>3000 and Altitude<6000:\n",
        "  print(\"Come down to 3000 Altitude and open landing gears...\")\n",
        "\n",
        "elif Altitude<3000:\n",
        "  print(\"Not Safe for Landing\")\n",
        "\n",
        "elif Altitude>6000:\n",
        "  print(\"Go Around...\")"
      ],
      "execution_count": null,
      "outputs": []
    },
    {
      "cell_type": "code",
      "metadata": {
        "id": "ptqXwe_PcgNh"
      },
      "source": [
        ""
      ],
      "execution_count": null,
      "outputs": []
    }
  ]
}